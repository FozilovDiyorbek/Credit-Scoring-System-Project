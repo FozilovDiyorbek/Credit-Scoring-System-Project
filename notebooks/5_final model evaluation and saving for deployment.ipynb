{
 "cells": [
  {
   "cell_type": "code",
   "execution_count": 1,
   "id": "6a0d7c0b",
   "metadata": {},
   "outputs": [],
   "source": [
    "import pandas as pd\n",
    "import joblib"
   ]
  },
  {
   "cell_type": "code",
   "execution_count": 2,
   "id": "eebd0af6",
   "metadata": {},
   "outputs": [
    {
     "name": "stdout",
     "output_type": "stream",
     "text": [
      "\n",
      "=== New Customer Forecast ===\n",
      "Customer 1: Non-Default (Probability: 0.04)\n",
      "Customer 2: Default (Probability: 0.96)\n",
      "Customer 3: Non-Default (Probability: 0.01)\n",
      "Customer 4: Non-Default (Probability: 0.03)\n",
      "Customer 5: Default (Probability: 0.87)\n"
     ]
    }
   ],
   "source": [
    "# Load the best model\n",
    "model_path = \"C:/Projects/Credit_scoring_system_project/models/best_model.pkl\"  \n",
    "model = joblib.load(model_path)\n",
    "\n",
    "# Upload test data\n",
    "df = pd.read_csv(\"C:/Projects/Credit_scoring_system_project/data/processed/cleaned_credit_rick.csv\").sample(5, random_state=42)\n",
    "X = df.drop(\"loan_status\", axis=1)\n",
    "\n",
    "predictions = model.predict(X)\n",
    "probability = model.predict_proba(X)[:, 1]\n",
    "\n",
    "print(\"\\n=== New Customer Forecast ===\")\n",
    "for i, (pred, prob) in enumerate(zip(predictions, probability)):\n",
    "    status = \"Default\" if pred == 1 else \"Non-Default\"\n",
    "    print(f\"Customer {i+1}: {status} (Probability: {prob:.2f})\")"
   ]
  }
 ],
 "metadata": {
  "kernelspec": {
   "display_name": "Python 3",
   "language": "python",
   "name": "python3"
  },
  "language_info": {
   "codemirror_mode": {
    "name": "ipython",
    "version": 3
   },
   "file_extension": ".py",
   "mimetype": "text/x-python",
   "name": "python",
   "nbconvert_exporter": "python",
   "pygments_lexer": "ipython3",
   "version": "3.11.9"
  }
 },
 "nbformat": 4,
 "nbformat_minor": 5
}
